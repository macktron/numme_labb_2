{
 "cells": [
  {
   "cell_type": "code",
   "execution_count": null,
   "id": "01d32529",
   "metadata": {},
   "outputs": [],
   "source": [
    "import numpy\n",
    "import matplotlib.pyplot as plt\n",
    "import math"
   ]
  },
  {
   "cell_type": "code",
   "execution_count": null,
   "id": "50a8256e",
   "metadata": {},
   "outputs": [],
   "source": [
    "#A)\n",
    "\n",
    "###5\n",
    "def u(a, x):\n",
    "    return 8*x/(8*a+x)\n",
    "\n",
    "def u_derivative_a(a, x):\n",
    "    return -8**2*x/(8*a+x)**2\n",
    "\n",
    "\n",
    "def least_squard_derivative_a(x, y, a):\n",
    "    sum = 0\n",
    "    for i in range(0, len(x)):\n",
    "        sum += 2*(u(a, x[i]) - y[i])*u_derivative_a(a, x[i])\n",
    "    return sum\n",
    "\n",
    "def gradient_descent(x, y, a, learning_rate, iterations):\n",
    "    for i in range(0, iterations):\n",
    "        a = a - learning_rate*least_squard_derivative_a(x, y, a)\n",
    "    return a\n",
    "\n",
    "def plot_5(x, y, a):\n",
    "    plt.plot(x, y, 'o')\n",
    "    x2 = numpy.arange(0, 5000, 0.1)\n",
    "    plt.plot(x2, u(a,x2), 'g')\n",
    "    plt.show()"
   ]
  },
  {
   "cell_type": "code",
   "execution_count": null,
   "id": "0a7ba668",
   "metadata": {},
   "outputs": [],
   "source": [
    "a = gradient_descent(x, y, 0, 0.1, 100000)\n",
    "plot_5(x, y, a)\n",
    "print(a)"
   ]
  },
  {
   "cell_type": "code",
   "execution_count": null,
   "id": "f248d9c5",
   "metadata": {},
   "outputs": [],
   "source": [
    "#6\n",
    "# linjärt ersättningsproblem\n",
    "def method1(x, y):\n",
    "    xlog = numpy.log(x)\n",
    "    one = numpy.array([1 for x in range(0, len(x))])\n",
    "    g = numpy.log(8-y)\n",
    "    A = numpy.array([one, xlog]).T\n",
    "\n",
    "    \n",
    "    left = numpy.dot(A.T, A)\n",
    "    right = numpy.matmul(A.T,g.T)\n",
    " \n",
    "    return numpy.linalg.solve(left, right)\n",
    "\n",
    "\n",
    "\n",
    "def plot_linear(x, y, a, b):\n",
    "    x2log = numpy.log(numpy.arange(100, 2050, 1))\n",
    "    plt.plot(numpy.log(x), numpy.log(8-y), 'o')\n",
    "    plt.plot(x2log, a + b*x2log, 'g')\n",
    "    plt.show()\n",
    "\n",
    "\n",
    "def plot_exp(x, y, a, b):\n",
    "    plt.plot(x, 8-y, 'o')\n",
    "    x2 = numpy.arange(1, 5000, 0.1)\n",
    "    plt.plot(x2, numpy.exp(a+ b*numpy.log(x2)), 'g')\n",
    "    plt.ylim((0,8))\n",
    "    plt.show()"
   ]
  },
  {
   "cell_type": "code",
   "execution_count": null,
   "id": "ede68263",
   "metadata": {},
   "outputs": [],
   "source": [
    "a, b = method1(x, y)\n",
    "print(numpy.exp(a), b)\n",
    "plot_linear(x, y, a, b)\n",
    "plot_exp(x, y, a, b)"
   ]
  },
  {
   "cell_type": "code",
   "execution_count": null,
   "id": "9933f526",
   "metadata": {},
   "outputs": [],
   "source": [
    "###6\n",
    "#Gauss-Newton\n",
    "def r(x,y, a, b):\n",
    "    return 8 - y - a*x**b\n",
    "\n",
    "def r_derivative_a(x, y, a, b):\n",
    "    return -x**b\n",
    "\n",
    "def r_derivative_b(x, y, a, b):\n",
    "    return -a*x**b*numpy.log(x)\n",
    "\n",
    "\n",
    "\n",
    "\n",
    "\n",
    "#newton method for a and b of r\n",
    "def jacobian_matrix_func(x, y, a, b):\n",
    "    eps = 1e-6\n",
    "    grad_a = (r(x, y, a+eps, b) - r(x, y, a, b))/eps\n",
    "    grad_b = (r(x, y, a, b+eps) - r(x, y, a, b))/eps\n",
    "    return numpy.column_stack([grad_a, grad_b]) \n",
    "\n",
    "\n",
    "def newton(x, y, a, b, iterations):\n",
    "    old = new = numpy.array([a, b])\n",
    "    for i in range(0, iterations):\n",
    "        old = new\n",
    "        jacobian_matrix = numpy.column_stack([r_derivative_a(x, y, old[0], old[1]), r_derivative_b(x, y, old[0], old[1])])\n",
    "        new = old - numpy.linalg.inv(jacobian_matrix.T @ jacobian_matrix)@(jacobian_matrix.T @ r(x, y, old[0], old[1]))\n",
    "        if numpy.linalg.norm(new - old) < 1e-14:\n",
    "            break\n",
    "    return new \n",
    "\n",
    "def plot_gauss_newton(x, y, a, b):\n",
    "    plt.plot(x, y, 'o')\n",
    "    x2 = numpy.arange(1, 5000, 0.1)\n",
    "    plt.plot(x2,8- a*x2**b, 'g')\n",
    "    plt.ylim((0,8))\n",
    "    plt.show()\n",
    "\n",
    "\n",
    "a,b = newton(x, y, 170, 0, 10000)\n",
    "plot_gauss_newton(x, y, a, b)\n",
    "print(a, b)"
   ]
  }
 ],
 "metadata": {
  "kernelspec": {
   "display_name": "Python 3",
   "language": "python",
   "name": "python3"
  },
  "language_info": {
   "codemirror_mode": {
    "name": "ipython",
    "version": 3
   },
   "file_extension": ".py",
   "mimetype": "text/x-python",
   "name": "python",
   "nbconvert_exporter": "python",
   "pygments_lexer": "ipython3",
   "version": "3.9.14 (main, Sep  6 2022, 23:16:16) \n[Clang 13.1.6 (clang-1316.0.21.2.5)]"
  },
  "vscode": {
   "interpreter": {
    "hash": "a665b5d41d17b532ea9890333293a1b812fa0b73c9c25c950b3cedf1bebd0438"
   }
  }
 },
 "nbformat": 4,
 "nbformat_minor": 5
}
