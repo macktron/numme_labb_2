{
 "cells": [
  {
   "cell_type": "code",
   "execution_count": 1,
   "id": "19c5a188",
   "metadata": {},
   "outputs": [],
   "source": [
    "import numpy\n",
    "import matplotlib.pyplot as plt"
   ]
  },
  {
   "cell_type": "markdown",
   "id": "e3e70217",
   "metadata": {},
   "source": [
    "# Exersice 1"
   ]
  },
  {
   "cell_type": "markdown",
   "id": "1871b47b",
   "metadata": {},
   "source": [
    "![alt text](Exc1.png)"
   ]
  },
  {
   "cell_type": "markdown",
   "id": "f6374dd1",
   "metadata": {},
   "source": [
    "# Exersice 2"
   ]
  },
  {
   "cell_type": "code",
   "execution_count": 2,
   "id": "22a708d6",
   "metadata": {},
   "outputs": [],
   "source": [
    "\n",
    "x = numpy.array([0, 0.5, 1, 1.5, 2, 2.99, 3])\n",
    "y = numpy.array([0, 0.52, 1.09, 1.75, 2.45, 3.5, 4])\n",
    "\n",
    "\n",
    "def least_squard(x, y):\n",
    "    A = numpy.array([x, x**2])\n",
    "    left = numpy.dot(A, A.T)\n",
    "    right = numpy.dot(A, y)\n",
    "    b= numpy.linalg.solve(left, right)\n",
    "    return numpy.array([0, b[0], b[1]])\n",
    "\n",
    "\n",
    "def polynomial_interpolation(x, y):\n",
    "    A = numpy.array([x**i for i in range(len(x))]).T #Naiva ansatsen --> dim(p(x)) = n-1\n",
    "    return numpy.linalg.solve(A, y)\n",
    "\n",
    "def plot(x, y, a, b):\n",
    "    plt.plot(x, y, 'o')\n",
    "    x2 = numpy.arange(0, 3, 0.01)\n",
    "    plt.plot(x2, a[0] + a[1]*x2 + a[2]*x2**2, 'r')\n",
    "    plt.plot(x2, b[0] + b[1]*x2 + b[2]*x2**2 + b[3]*x2**3 + b[4]*x2**4 + b[5]*x2**5 + b[6]*x2**6, 'g')\n",
    "    plt.show()\n",
    "\n",
    "\n",
    "def error_least_squard(x, y, a):\n",
    "    sum = 0\n",
    "    for i in range(len(x)):\n",
    "        sum += (a[0] + a[1]*x[i] + a[2]*x[i]**2 - y[i])**2\n",
    "    return (sum/len(x))**0.5\n",
    "\n",
    "def error_polynomial_interpolation(x, y, b):\n",
    "    sum = 0\n",
    "    for i in range(len(x)):\n",
    "        sum += (b[0] + b[1]*x[i] + b[2]*x[i]**2 + b[3]*x[i]**3 + b[4]*x[i]**4 + b[5]*x[i]**5 + b[6]*x[i]**6 - y[i])**2\n",
    "    return (sum/len(x))**0.5\n"
   ]
  },
  {
   "cell_type": "code",
   "execution_count": 3,
   "id": "c66431de",
   "metadata": {},
   "outputs": [
    {
     "data": {
      "image/png": "[encoded data removed]",
      "text/plain": [
       "<Figure size 432x288 with 1 Axes>"
      ]
     },
     "metadata": {
      "needs_background": "light"
     },
     "output_type": "display_data"
    }
   ],
   "source": [
    "a = least_squard(x, y)\n",
    "b = polynomial_interpolation(x, y)\n",
    "\n",
    "a_error = error_least_squard(x, y, a)\n",
    "b_error = error_polynomial_interpolation(x, y, b)\n",
    "\n",
    "plot(x, y, a, b)"
   ]
  },
  {
   "cell_type": "markdown",
   "id": "ce8e4b2b",
   "metadata": {},
   "source": [
    "### Excersice 2 Summary\n",
    "\n",
    "**least squared method:**\n",
    "> *ax+bx^2*\n",
    "\n",
    "- a = 1.0708944\n",
    "- b = 0.06184937\n",
    "- error = 0.1334657807385267\n",
    "\n",
    "\n",
    "**polynomial interpol:**\n",
    "> *a+bx+cx^2+dx^3+ex^4+fx^4+gx^5*\n",
    "\n",
    "- a = 0\n",
    "- b = -8.78166724\n",
    "- c = 44.16511368\n",
    "- d = -70.92037449\n",
    "- e = 51.97907708\n",
    "- f = -17.54963064\n",
    "- g = 2.19748161\n",
    "- error = 2.35750041823958e-13\n",
    "\n"
   ]
  },
  {
   "cell_type": "markdown",
   "id": "62480316",
   "metadata": {},
   "source": [
    "# Exersice 2"
   ]
  },
  {
   "cell_type": "code",
   "execution_count": 4,
   "id": "1d2cbf2f",
   "metadata": {},
   "outputs": [],
   "source": [
    "x = numpy.array([150, 200, 300, 500, 1000, 2000])\n",
    "y = numpy.array([2, 3, 4, 5, 6, 7])"
   ]
  },
  {
   "cell_type": "markdown",
   "id": "c32a456e",
   "metadata": {},
   "source": [
    "## Equation (5) \n",
    "![alt text](eq5.png)\n",
    "### *Least squared method*"
   ]
  },
  {
   "cell_type": "code",
   "execution_count": 5,
   "id": "c2aa54af",
   "metadata": {},
   "outputs": [],
   "source": [
    "def u(a, x):\n",
    "    return 8*x/(8*a+x)\n",
    "\n",
    "def u_derivative_a(a, x):\n",
    "    return -8**2*x/(8*a+x)**2\n",
    "\n",
    "\n",
    "def least_squard_derivative_a(x, y, a):\n",
    "    sum = 0\n",
    "    for i in range(0, len(x)):\n",
    "        sum += 2*(u(a, x[i]) - y[i])*u_derivative_a(a, x[i])\n",
    "    return sum\n",
    "\n",
    "def gradient_descent(x, y, a, learning_rate, iterations):\n",
    "    for i in range(0, iterations):\n",
    "        a = a - learning_rate*least_squard_derivative_a(x, y, a)\n",
    "    return a\n",
    "\n",
    "def plot_5(x, y, a):\n",
    "    plt.plot(x, y, 'o')\n",
    "    x2 = numpy.arange(0, 5000, 0.1)\n",
    "    plt.plot(x2, u(a,x2), 'g')\n",
    "    plt.show()\n",
    "    \n",
    "def error_5(x, y, a):\n",
    "    sum = 0\n",
    "    for i in range(len(x)):\n",
    "        sum += (u(a,x[i])**2 - y[i])**2\n",
    "    return (sum/len(x))**0.5\n"
   ]
  },
  {
   "cell_type": "code",
   "execution_count": 6,
   "id": "687f1f69",
   "metadata": {},
   "outputs": [
    {
     "data": {
      "image/png": "[encoded data removed]",
      "text/plain": [
       "<Figure size 432x288 with 1 Axes>"
      ]
     },
     "metadata": {
      "needs_background": "light"
     },
     "output_type": "display_data"
    }
   ],
   "source": [
    "a = gradient_descent(x, y, 0, 0.1, 100000)\n",
    "plot_5(x, y, a)"
   ]
  },
  {
   "cell_type": "markdown",
   "id": "bd11e170",
   "metadata": {},
   "source": [
    "##### Equation 5 \n",
    "> Least squared\n",
    "- a = 41.392952696454905\n",
    "- error =  22.397180719477042"
   ]
  },
  {
   "cell_type": "markdown",
   "id": "1e7e4755",
   "metadata": {},
   "source": [
    "## Equation (6) \n",
    "![alt text](eq6.png)\n",
    "### *Linearization problem*"
   ]
  },
  {
   "cell_type": "code",
   "execution_count": 7,
   "id": "2c7fb667",
   "metadata": {},
   "outputs": [],
   "source": [
    "def method1(x, y):\n",
    "    xlog = numpy.log(x)\n",
    "    one = numpy.array([1 for x in range(0, len(x))])\n",
    "    g = numpy.log(8-y)\n",
    "    A = numpy.array([one, xlog]).T\n",
    "    left = numpy.dot(A.T, A)\n",
    "    right = numpy.matmul(A.T,g.T)\n",
    "    return numpy.linalg.solve(left, right)\n",
    "\n",
    "def plot_linear(x, y, a, b):\n",
    "    x2log = numpy.log(numpy.arange(100, 2050, 1))\n",
    "    plt.plot(numpy.log(x), numpy.log(8-y), 'o')\n",
    "    plt.plot(x2log, a + b*x2log, 'g')\n",
    "    plt.show()\n",
    "\n",
    "def plot_exp(x, y, a, b):\n",
    "    plt.plot(x, 8-y, 'o')\n",
    "    x2 = numpy.arange(1, 5000, 0.1)\n",
    "    plt.plot(x2, numpy.exp(a+ b*numpy.log(x2)), 'g')\n",
    "    plt.ylim((0,8))\n",
    "    plt.show()\n",
    "   \n",
    "def error_6(x, y, a, b):\n",
    "    sum = 0\n",
    "    for i in range(len(x)):\n",
    "        sum += (8-a*x[i]**b-y[i])**2\n",
    "    return (sum/len(x))**0.5    "
   ]
  },
  {
   "cell_type": "code",
   "execution_count": 8,
   "id": "2764ba9e",
   "metadata": {},
   "outputs": [
    {
     "data": {
      "image/png": "[encoded data removed]",
      "text/plain": [
       "<Figure size 432x288 with 1 Axes>"
      ]
     },
     "metadata": {
      "needs_background": "light"
     },
     "output_type": "display_data"
    },
    {
     "data": {
      "image/png": "[encoded data removed]",
      "text/plain": [
       "<Figure size 432x288 with 1 Axes>"
      ]
     },
     "metadata": {
      "needs_background": "light"
     },
     "output_type": "display_data"
    }
   ],
   "source": [
    "a, b = method1(x, y)\n",
    "plot_linear(x, y, a, b)\n",
    "plot_exp(x, y, a, b)"
   ]
  },
  {
   "cell_type": "markdown",
   "id": "e3b06063",
   "metadata": {},
   "source": [
    "##### Equation 6\n",
    "> Linearization problem\n",
    "- a = 174.52465223177506\n",
    "- b = -0.6640119820775088\n",
    "- error =  3.7774730348645775"
   ]
  },
  {
   "cell_type": "markdown",
   "id": "79b7ebbe",
   "metadata": {},
   "source": [
    "### *Gauss Newton*"
   ]
  },
  {
   "cell_type": "code",
   "execution_count": 9,
   "id": "af8ec6a3",
   "metadata": {},
   "outputs": [],
   "source": [
    "def r(x,y, a, b):\n",
    "    return 8 - y - a*x**b\n",
    "\n",
    "def r_derivative_a(x, y, a, b):\n",
    "    return -x**b\n",
    "\n",
    "def r_derivative_b(x, y, a, b):\n",
    "    return -a*x**b*numpy.log(x)\n",
    "\n",
    "def jacobian_matrix_func(x, y, a, b):\n",
    "    eps = 1e-6\n",
    "    grad_a = (r(x, y, a+eps, b) - r(x, y, a, b))/eps\n",
    "    grad_b = (r(x, y, a, b+eps) - r(x, y, a, b))/eps\n",
    "    return numpy.column_stack([grad_a, grad_b]) \n",
    "\n",
    "def newton(x, y, a, b, iterations):\n",
    "    old = new = numpy.array([a, b])\n",
    "    for i in range(0, iterations):\n",
    "        old = new\n",
    "        jacobian_matrix = numpy.column_stack([r_derivative_a(x, y, old[0], old[1]), r_derivative_b(x, y, old[0], old[1])])\n",
    "        new = old - numpy.linalg.inv(jacobian_matrix.T @ jacobian_matrix)@(jacobian_matrix.T @ r(x, y, old[0], old[1]))\n",
    "        if numpy.linalg.norm(new - old) < 1e-14:\n",
    "            break\n",
    "    return new \n",
    "\n",
    "def plot_gauss_newton(x, y, a, b):\n",
    "    plt.plot(x, y, 'o')\n",
    "    x2 = numpy.arange(1, 5000, 0.1)\n",
    "    plt.plot(x2,8- a*x2**b, 'g')\n",
    "    plt.ylim((0,8))\n",
    "    plt.show()\n",
    "    \n",
    "def error_6(x, y, a, b):\n",
    "    sum = 0\n",
    "    for i in range(len(x)):\n",
    "        sum += (8-a*x[i]**b-y[i])**2\n",
    "    return (sum/len(x))**0.5\n"
   ]
  },
  {
   "cell_type": "code",
   "execution_count": 10,
   "id": "c8126596",
   "metadata": {},
   "outputs": [
    {
     "data": {
      "image/png": "[encoded data removed]",
      "text/plain": [
       "<Figure size 432x288 with 1 Axes>"
      ]
     },
     "metadata": {
      "needs_background": "light"
     },
     "output_type": "display_data"
    }
   ],
   "source": [
    "a,b = newton(x, y, 170, 0, 10000)\n",
    "plot_gauss_newton(x, y, a, b)"
   ]
  },
  {
   "cell_type": "markdown",
   "id": "7450b82b",
   "metadata": {},
   "source": [
    "##### Equation 6\n",
    "> Gauss Newton\n",
    "- a = 126.79319764502415\n",
    "- b = -0.6082002220230582\n",
    "- error =  0.12081020947745666"
   ]
  },
  {
   "cell_type": "markdown",
   "id": "e4c835c3",
   "metadata": {},
   "source": [
    "### *Polynomial Interpolation*"
   ]
  },
  {
   "cell_type": "code",
   "execution_count": 11,
   "id": "4e8546e8",
   "metadata": {},
   "outputs": [],
   "source": [
    "def polynomial_interpolaring(x, y):\n",
    "    A = numpy.zeros((len(x), len(x)))\n",
    "    for i in range(0, len(x)):\n",
    "        for j in range(0, len(x)):\n",
    "            A[i][j] = x[i]**j\n",
    "    b = numpy.zeros(len(x))\n",
    "    for i in range(0, len(x)):\n",
    "        b[i] = y[i]\n",
    "    return numpy.linalg.solve(A, b)\n",
    "\n",
    "def plot_polynomial_interpolaring(x, y, a):\n",
    "    plt.plot(x, y, 'o')\n",
    "    x2 = numpy.arange(1, 5000, 0.1)\n",
    "    y2 = numpy.zeros(len(x2))\n",
    "    for i in range(0, len(x2)):\n",
    "        for j in range(0, len(a)):\n",
    "            y2[i] += a[j]*x2[i]**j\n",
    "    plt.plot(x2, y2, 'g')\n",
    "    plt.ylim((0,8))\n",
    "    plt.show()\n",
    "\n",
    "def polynomial_interpolaring_error(x, y, a):\n",
    "    sum = 0\n",
    "    for i in range(len(x)):\n",
    "        val = a[0]\n",
    "        for j in range(1, len(a)):\n",
    "            val += a[j]*x[i]**j\n",
    "        sum += (val - y[i])**2\n",
    "    return (sum/len(x))**0.5"
   ]
  },
  {
   "cell_type": "code",
   "execution_count": 12,
   "id": "5a8bb8a5",
   "metadata": {},
   "outputs": [
    {
     "data": {
      "image/png": "[encoded data removed]",
      "text/plain": [
       "<Figure size 432x288 with 1 Axes>"
      ]
     },
     "metadata": {
      "needs_background": "light"
     },
     "output_type": "display_data"
    }
   ],
   "source": [
    "plot_polynomial_interpolaring(x, y,polynomial_interpolaring(x, y))"
   ]
  },
  {
   "cell_type": "markdown",
   "id": "081466a6",
   "metadata": {},
   "source": [
    "#### polynomial interpol:\n",
    "> *a+bx+cx^2+dx^3+ex^4+fx^5*\n",
    "\n",
    "- a = -5.30657128\n",
    "- b = 8.03201037e-02\n",
    "- c = -2.69768363e-04\n",
    "- d = 4.39161514e-07\n",
    "- e = -3.15403849e-10\n",
    "- f = 7.69971652e-14\n",
    "- error = 3.145675440961141e-14\n",
    "\n"
   ]
  },
  {
   "cell_type": "markdown",
   "id": "17183abe",
   "metadata": {},
   "source": [
    "### Excersice 3 Summary\n",
    "##### Equation 5 \n",
    "---\n",
    "> Least squared\n",
    "- a = 41.392952696454905\n",
    "- error =  22.397180719477042\n",
    "---\n",
    "\n",
    "##### Equation 6\n",
    "> Linearization problem\n",
    "- a = 174.52465223177506\n",
    "- b = -0.6640119820775088\n",
    "- error =  3.7774730348645775\n",
    "---\n",
    "##### Equation 6\n",
    "> Gauss Newton\n",
    "- a = 126.79319764502415\n",
    "- b = -0.6082002220230582\n",
    "- error =  0.12081020947745666\n",
    "---\n",
    "> polynomial interpol \n",
    "\n",
    "*a+bx+cx^2+dx^3+ex^4+fx^5*\n",
    "\n",
    "- a = -5.30657128\n",
    "- b = 8.03201037e-02\n",
    "- c = -2.69768363e-04\n",
    "- d = 4.39161514e-07\n",
    "- e = -3.15403849e-10\n",
    "- f = 7.69971652e-14\n",
    "- error = 3.145675440961141e-14\n",
    "\n",
    "\n",
    "\n",
    "### Discussion\n",
    "> *From a discrete mathematical point of view polynomial interpol is superior given it's error converging to 0. But Since is occilates it does not work well in points between the give discrete values, as seen in the graph. Therefore the best approximaiton is with gauss newton which gives a low error while following the points in a rationall manner.*\n",
    "\n",
    "> *Equation 5 also gives a really bad approximation of the values. This might be because we cant tune the exponential parameter with the same freedome as with equation 6.*\n",
    "\n",
    "\n"
   ]
  },
  {
   "cell_type": "markdown",
   "id": "3d05cab4",
   "metadata": {},
   "source": [
    "### Exersice 3.b\n",
    "\n",
    "![alt text](Exc3.png)"
   ]
  },
  {
   "cell_type": "markdown",
   "id": "e39975a3",
   "metadata": {},
   "source": [
    "# Exersice 4\n"
   ]
  },
  {
   "cell_type": "markdown",
   "id": "54b5bd6d",
   "metadata": {},
   "source": [
    "### Config"
   ]
  },
  {
   "cell_type": "code",
   "execution_count": 13,
   "id": "ecc4a2fd",
   "metadata": {},
   "outputs": [],
   "source": [
    "time_steps = 50\n",
    "max_iterations = 50\n",
    "start_capital = 1\n",
    "precision = 1e-10"
   ]
  },
  {
   "cell_type": "code",
   "execution_count": 14,
   "id": "fb7eaa63",
   "metadata": {},
   "outputs": [],
   "source": [
    "def g(x):\n",
    "    return 2*x**0.5\n",
    "\n",
    "def g_derivative(x):\n",
    "    return x**-0.5\n",
    "\n",
    "def f(x, f_number):\n",
    "    if f_number == 1:\n",
    "        return x\n",
    "    elif f_number == 2:\n",
    "        return x + x**2/10\n",
    "    elif f_number == 3:\n",
    "        a = 1.0708944\n",
    "        b = 0.06184937\n",
    "        return a*x+b*x**2\n",
    "\n",
    "def f_derivative(x, f_number):\n",
    "    if f_number == 1:\n",
    "        return 1\n",
    "    elif f_number == 2:\n",
    "        return 1 + x/5\n",
    "    elif f_number == 3:\n",
    "        a = 1.0708944\n",
    "        b = 0.06184937\n",
    "        return a + 2*b*x\n",
    "\n",
    "def EulerLagrange(time_steps, max_iterations, start_capital ,precision, f_number):\n",
    "    dt = 1/time_steps\n",
    "    X_old = numpy.zeros((time_steps+1)) + start_capital\n",
    "    X_new = numpy.zeros((time_steps+1))\n",
    "    X_new[0] = start_capital\n",
    "    L = numpy.zeros((time_steps)) \n",
    "\n",
    "    for i in range(max_iterations):\n",
    "        L[time_steps-1] = g_derivative(start_capital)\n",
    "        for j in range(time_steps-2, -1, -1):\n",
    "            L[j] = L[j+1] + dt*f_derivative(X_old[j],f_number)*L[j+1]\n",
    "        for k in range(time_steps):\n",
    "            X_new[k+1] = (X_new[k]+dt*(f(X_old[k],f_number)-1/(L[k]**(3/5))))\n",
    "        X_old = X_new\n",
    "        if numpy.linalg.norm(X_new-X_old) < precision:\n",
    "            break\n",
    "    X = X_new.T\n",
    "    alpha = (L**(-3/5)).T\n",
    "    return X, alpha"
   ]
  },
  {
   "cell_type": "code",
   "execution_count": 15,
   "id": "06ef2f26",
   "metadata": {},
   "outputs": [],
   "source": [
    "def plot_capital(x):\n",
    "    time_axis = numpy.arange(0, time_steps+1)\n",
    "    plt.plot(time_axis, x, label='Data', marker='o')\n",
    "    plt. title('Capital over time')\n",
    "    plt.show()\n",
    "    \n",
    "def plot_alpha(x):\n",
    "    time_axis = numpy.arange(1, time_steps+1, 1)\n",
    "    plt.plot(time_axis, x, label='Data', marker='o')\n",
    "    plt. title('Spending over time')\n",
    "    plt.show()\n",
    "    \n",
    "def plota(x,a):\n",
    "    time_axis = numpy.arange(1, time_steps+1, 1)\n",
    "    fig, ax = plt.subplots()\n",
    "    ax.plot(time_axis, x, label='Capital')\n",
    "    ax.plot(time_axis, a, label='Spending')\n",
    "    ax.legend()\n",
    "    ax.set_xlabel('X Axis')\n",
    "    ax.set_ylabel('Y Axis')\n",
    "    plt.show()"
   ]
  },
  {
   "cell_type": "markdown",
   "id": "74995fa4",
   "metadata": {},
   "source": [
    "#### Function 1"
   ]
  },
  {
   "cell_type": "code",
   "execution_count": 16,
   "id": "fb644661",
   "metadata": {},
   "outputs": [
    {
     "data": {
      "image/png": "[encoded data removed]",
      "text/plain": [
       "<Figure size 432x288 with 1 Axes>"
      ]
     },
     "metadata": {
      "needs_background": "light"
     },
     "output_type": "display_data"
    },
    {
     "data": {
      "image/png": "[encoded data removed]",
      "text/plain": [
       "<Figure size 432x288 with 1 Axes>"
      ]
     },
     "metadata": {
      "needs_background": "light"
     },
     "output_type": "display_data"
    }
   ],
   "source": [
    "capital, alpha = EulerLagrange(time_steps, max_iterations, start_capital ,precision,1)\n",
    "plot_capital(capital)\n",
    "plot_alpha(alpha)\n"
   ]
  },
  {
   "cell_type": "markdown",
   "id": "d16ad429",
   "metadata": {},
   "source": [
    "#### Function 2"
   ]
  },
  {
   "cell_type": "code",
   "execution_count": 17,
   "id": "83c0065f",
   "metadata": {},
   "outputs": [
    {
     "data": {
      "image/png": "[encoded data removed]",
      "text/plain": [
       "<Figure size 432x288 with 1 Axes>"
      ]
     },
     "metadata": {
      "needs_background": "light"
     },
     "output_type": "display_data"
    },
    {
     "data": {
      "image/png": "[encoded data removed]",
      "text/plain": [
       "<Figure size 432x288 with 1 Axes>"
      ]
     },
     "metadata": {
      "needs_background": "light"
     },
     "output_type": "display_data"
    }
   ],
   "source": [
    "capital, alpha = EulerLagrange(time_steps, max_iterations, start_capital ,precision,2)\n",
    "plot_capital(capital)\n",
    "plot_alpha(alpha)"
   ]
  },
  {
   "cell_type": "markdown",
   "id": "5a339533",
   "metadata": {},
   "source": [
    "### Function 3"
   ]
  },
  {
   "cell_type": "code",
   "execution_count": 18,
   "id": "1534919d",
   "metadata": {},
   "outputs": [
    {
     "data": {
      "image/png": "[encoded data removed]",
      "text/plain": [
       "<Figure size 432x288 with 1 Axes>"
      ]
     },
     "metadata": {
      "needs_background": "light"
     },
     "output_type": "display_data"
    },
    {
     "data": {
      "image/png": "[encoded data removed]",
      "text/plain": [
       "<Figure size 432x288 with 1 Axes>"
      ]
     },
     "metadata": {
      "needs_background": "light"
     },
     "output_type": "display_data"
    }
   ],
   "source": [
    "capital, alpha = EulerLagrange(time_steps, max_iterations, start_capital ,precision,3)\n",
    "plot_capital(capital)\n",
    "plot_alpha(alpha)"
   ]
  },
  {
   "cell_type": "markdown",
   "id": "5c76b363",
   "metadata": {},
   "source": [
    "# Exercise 5\n",
    "### *Discussion*"
   ]
  },
  {
   "cell_type": "markdown",
   "id": "76c16224",
   "metadata": {},
   "source": [
    "> Vi använder Eulers metod för att approximera kapitalet över tid där vi tappar vi termer av ordning högre än 1. Detta ger ett trunkeringsfel. Detta innebär dock att felet är grad e < x alltså mindre är linjärt mot f(x). \n",
    "\n",
    "> Approximationerna av f(x), g(x) och U(alpha) samt alpha(lambda) kan vara felaktiga men går inte att bedömma utan mer data.\n",
    "\n",
    "> Även diskretiseringen av integralen bör påverka resultatet. Detta beror på stoleken av dt. Alltså minkar detta felet då N-->inf\n",
    "\n",
    "> Vi har även att startgissningen påverkar hur många iterationer som krävs för att uppnå samma resultat jämnfört med en annan startgissning. "
   ]
  },
  {
   "cell_type": "code",
   "execution_count": null,
   "id": "2570fbbb",
   "metadata": {},
   "outputs": [],
   "source": []
  }
 ],
 "metadata": {
  "kernelspec": {
   "display_name": "Python 3 (ipykernel)",
   "language": "python",
   "name": "python3"
  },
  "language_info": {
   "codemirror_mode": {
    "name": "ipython",
    "version": 3
   },
   "file_extension": ".py",
   "mimetype": "text/x-python",
   "name": "python",
   "nbconvert_exporter": "python",
   "pygments_lexer": "ipython3",
   "version": "3.9.14"
  }
 },
 "nbformat": 4,
 "nbformat_minor": 5
}
